{
 "cells": [
  {
   "cell_type": "code",
   "execution_count": 2,
   "id": "b5875ec0-37ff-469b-a3c6-1dcd32eb18b8",
   "metadata": {},
   "outputs": [
    {
     "name": "stdout",
     "output_type": "stream",
     "text": [
      "Collecting pattern\n",
      "  Downloading Pattern-3.6.0.tar.gz (22.2 MB)\n",
      "\u001b[2K     \u001b[90m━━━━━━━━━━━━━━━━━━━━━━━━━━━━━━━━━━━━━━━━\u001b[0m \u001b[32m22.2/22.2 MB\u001b[0m \u001b[31m6.1 MB/s\u001b[0m eta \u001b[36m0:00:00\u001b[0m00:01\u001b[0m00:01\u001b[0m\n",
      "\u001b[?25h  Preparing metadata (setup.py) ... \u001b[?25ldone\n",
      "\u001b[?25hRequirement already satisfied: future in ./anaconda3/lib/python3.10/site-packages (from pattern) (0.18.3)\n",
      "Collecting backports.csv (from pattern)\n",
      "  Downloading backports.csv-1.0.7-py2.py3-none-any.whl (12 kB)\n",
      "Collecting mysqlclient (from pattern)\n",
      "  Downloading mysqlclient-2.1.1.tar.gz (88 kB)\n",
      "\u001b[2K     \u001b[90m━━━━━━━━━━━━━━━━━━━━━━━━━━━━━━━━━━━━━━━━\u001b[0m \u001b[32m88.1/88.1 kB\u001b[0m \u001b[31m3.8 MB/s\u001b[0m eta \u001b[36m0:00:00\u001b[0m\n",
      "\u001b[?25h  Preparing metadata (setup.py) ... \u001b[?25lerror\n",
      "  \u001b[1;31merror\u001b[0m: \u001b[1msubprocess-exited-with-error\u001b[0m\n",
      "  \n",
      "  \u001b[31m×\u001b[0m \u001b[32mpython setup.py egg_info\u001b[0m did not run successfully.\n",
      "  \u001b[31m│\u001b[0m exit code: \u001b[1;36m1\u001b[0m\n",
      "  \u001b[31m╰─>\u001b[0m \u001b[31m[16 lines of output]\u001b[0m\n",
      "  \u001b[31m   \u001b[0m /bin/sh: mysql_config: command not found\n",
      "  \u001b[31m   \u001b[0m /bin/sh: mariadb_config: command not found\n",
      "  \u001b[31m   \u001b[0m /bin/sh: mysql_config: command not found\n",
      "  \u001b[31m   \u001b[0m Traceback (most recent call last):\n",
      "  \u001b[31m   \u001b[0m   File \"<string>\", line 2, in <module>\n",
      "  \u001b[31m   \u001b[0m   File \"<pip-setuptools-caller>\", line 34, in <module>\n",
      "  \u001b[31m   \u001b[0m   File \"/private/var/folders/_m/nbz3gbrj0f72kfkdwvdhh5tw0000gn/T/pip-install-9vsfodwl/mysqlclient_5068253b8ee24a1b950588d5d955ef0a/setup.py\", line 15, in <module>\n",
      "  \u001b[31m   \u001b[0m     metadata, options = get_config()\n",
      "  \u001b[31m   \u001b[0m   File \"/private/var/folders/_m/nbz3gbrj0f72kfkdwvdhh5tw0000gn/T/pip-install-9vsfodwl/mysqlclient_5068253b8ee24a1b950588d5d955ef0a/setup_posix.py\", line 70, in get_config\n",
      "  \u001b[31m   \u001b[0m     libs = mysql_config(\"libs\")\n",
      "  \u001b[31m   \u001b[0m   File \"/private/var/folders/_m/nbz3gbrj0f72kfkdwvdhh5tw0000gn/T/pip-install-9vsfodwl/mysqlclient_5068253b8ee24a1b950588d5d955ef0a/setup_posix.py\", line 31, in mysql_config\n",
      "  \u001b[31m   \u001b[0m     raise OSError(\"{} not found\".format(_mysql_config_path))\n",
      "  \u001b[31m   \u001b[0m OSError: mysql_config not found\n",
      "  \u001b[31m   \u001b[0m mysql_config --version\n",
      "  \u001b[31m   \u001b[0m mariadb_config --version\n",
      "  \u001b[31m   \u001b[0m mysql_config --libs\n",
      "  \u001b[31m   \u001b[0m \u001b[31m[end of output]\u001b[0m\n",
      "  \n",
      "  \u001b[1;35mnote\u001b[0m: This error originates from a subprocess, and is likely not a problem with pip.\n",
      "\u001b[1;31merror\u001b[0m: \u001b[1mmetadata-generation-failed\u001b[0m\n",
      "\n",
      "\u001b[31m×\u001b[0m Encountered error while generating package metadata.\n",
      "\u001b[31m╰─>\u001b[0m See above for output.\n",
      "\n",
      "\u001b[1;35mnote\u001b[0m: This is an issue with the package mentioned above, not pip.\n",
      "\u001b[1;36mhint\u001b[0m: See above for details.\n",
      "\u001b[?25hCollecting pyspellchecker\n",
      "  Downloading pyspellchecker-0.7.1-py3-none-any.whl (2.5 MB)\n",
      "\u001b[2K     \u001b[90m━━━━━━━━━━━━━━━━━━━━━━━━━━━━━━━━━━━━━━━━\u001b[0m \u001b[32m2.5/2.5 MB\u001b[0m \u001b[31m3.3 MB/s\u001b[0m eta \u001b[36m0:00:00\u001b[0m00:01\u001b[0m00:01\u001b[0m0m\n",
      "\u001b[?25hInstalling collected packages: pyspellchecker\n",
      "Successfully installed pyspellchecker-0.7.1\n",
      "Collecting autocorrect\n",
      "  Downloading autocorrect-2.6.1.tar.gz (622 kB)\n",
      "\u001b[2K     \u001b[90m━━━━━━━━━━━━━━━━━━━━━━━━━━━━━━━━━━━━━━━\u001b[0m \u001b[32m622.8/622.8 kB\u001b[0m \u001b[31m2.1 MB/s\u001b[0m eta \u001b[36m0:00:00\u001b[0m00:01\u001b[0m00:01\u001b[0m\n",
      "\u001b[?25h  Preparing metadata (setup.py) ... \u001b[?25ldone\n",
      "\u001b[?25hBuilding wheels for collected packages: autocorrect\n",
      "  Building wheel for autocorrect (setup.py) ... \u001b[?25ldone\n",
      "\u001b[?25h  Created wheel for autocorrect: filename=autocorrect-2.6.1-py3-none-any.whl size=622363 sha256=01b02e97a4e3f8c34d3bf34cfa1fdb5c9c997c41449805ce3abac7c026afa00e\n",
      "  Stored in directory: /Users/suhaassanga/Library/Caches/pip/wheels/b5/7b/6d/b76b29ce11ff8e2521c8c7dd0e5bfee4fb1789d76193124343\n",
      "Successfully built autocorrect\n",
      "Installing collected packages: autocorrect\n",
      "Successfully installed autocorrect-2.6.1\n",
      "Collecting textblob\n",
      "  Downloading textblob-0.17.1-py2.py3-none-any.whl (636 kB)\n",
      "\u001b[2K     \u001b[90m━━━━━━━━━━━━━━━━━━━━━━━━━━━━━━━━━━━━━━━\u001b[0m \u001b[32m636.8/636.8 kB\u001b[0m \u001b[31m2.5 MB/s\u001b[0m eta \u001b[36m0:00:00\u001b[0ma \u001b[36m0:00:01\u001b[0m\n",
      "\u001b[?25hRequirement already satisfied: nltk>=3.1 in ./anaconda3/lib/python3.10/site-packages (from textblob) (3.7)\n",
      "Requirement already satisfied: click in ./anaconda3/lib/python3.10/site-packages (from nltk>=3.1->textblob) (8.0.4)\n",
      "Requirement already satisfied: joblib in ./anaconda3/lib/python3.10/site-packages (from nltk>=3.1->textblob) (1.1.1)\n",
      "Requirement already satisfied: regex>=2021.8.3 in ./anaconda3/lib/python3.10/site-packages (from nltk>=3.1->textblob) (2022.7.9)\n",
      "Requirement already satisfied: tqdm in ./anaconda3/lib/python3.10/site-packages (from nltk>=3.1->textblob) (4.64.1)\n",
      "Installing collected packages: textblob\n",
      "Successfully installed textblob-0.17.1\n",
      "Requirement already satisfied: textdistance in ./anaconda3/lib/python3.10/site-packages (4.2.1)\n"
     ]
    }
   ],
   "source": [
    "!pip install pattern\n",
    "!pip install pyspellchecker\n",
    "!pip install autocorrect\n",
    "!pip install textblob\n",
    "!pip install textdistance"
   ]
  },
  {
   "cell_type": "code",
   "execution_count": 6,
   "id": "ff903826-13e9-44bf-8b1b-8f3c61ea2c0c",
   "metadata": {},
   "outputs": [
    {
     "name": "stdout",
     "output_type": "stream",
     "text": [
      "The first 10 words in our dictionary are: \n",
      "['quod', 'equidem', 'non', 'reprehendo', 'lorem', 'ipsum', 'dolor', 'sit', 'amet', 'consectetur']\n",
      "The dictionary has 373 words \n"
     ]
    }
   ],
   "source": [
    "import re  # regular expression\n",
    "from collections import Counter\n",
    "import numpy as np\n",
    "import pandas as pd\n",
    "\n",
    "# Implement the function process_data which\n",
    "# 1) Reads in a corpus\n",
    "# 2) Changes everything to lowercase\n",
    "# 3) Returns a list of words.\n",
    "\n",
    "w = [] #words\n",
    "with open('sample.txt','r',encoding=\"utf8\") as f:\n",
    "    file_name_data = f.read()\n",
    "    file_name_data = file_name_data.lower()\n",
    "    w = re.findall('\\w+', file_name_data)\n",
    "\n",
    "v = set(w) #vocabulary\n",
    "print(f\"The first 10 words in our dictionary are: \\n{w[0:10]}\")\n",
    "print(f\"The dictionary has {len(v)} words \")"
   ]
  },
  {
   "cell_type": "code",
   "execution_count": 9,
   "id": "d5783632-ff4e-4ada-84ab-031a022747a1",
   "metadata": {},
   "outputs": [
    {
     "name": "stdout",
     "output_type": "stream",
     "text": [
      "There are 373 key values pairs\n"
     ]
    }
   ],
   "source": [
    "def get_count(words):\n",
    "    word_count_dict = {}\n",
    "    for word in words:\n",
    "        if word in word_count_dict:\n",
    "            word_count_dict[word] += 1\n",
    "        else:\n",
    "            word_count_dict[word] = 1\n",
    "    return word_count_dict\n",
    "word_count_dict = get_count(w)\n",
    "print(f\"There are {len(word_count_dict)} key values pairs\")"
   ]
  },
  {
   "cell_type": "code",
   "execution_count": 11,
   "id": "51eb4b72-4174-495b-b1b7-2f54f2e0988d",
   "metadata": {},
   "outputs": [],
   "source": [
    "def get_probs(word_count_dict):\n",
    "    probs = {}\n",
    "    m = sum(word_count_dict.values())\n",
    "    for key in word_count_dict.keys():\n",
    "        probs[key] = word_count_dict[key] / m\n",
    "    return probs"
   ]
  },
  {
   "cell_type": "code",
   "execution_count": 12,
   "id": "0f8cd724-14a0-4a11-980f-f42a3cae831d",
   "metadata": {},
   "outputs": [],
   "source": [
    "def DeleteLetter(word):\n",
    "    delete_list = []\n",
    "    split_list = []\n",
    "    for i in range(len(word)):\n",
    "        split_list.append((word[0:i], word[i:]))\n",
    "    for a, b in split_list:\n",
    "        delete_list.append(a + b[1:])\n",
    "    return delete_list\n",
    "\n",
    "delete_word_l = DeleteLetter(word=\"cans\")\n"
   ]
  },
  {
   "cell_type": "code",
   "execution_count": 13,
   "id": "f82dca28-91e2-424f-8ccf-293e27a09b5f",
   "metadata": {},
   "outputs": [
    {
     "name": "stdout",
     "output_type": "stream",
     "text": [
      "['icet', 'Dcet', 'Diet', 'Dict', 'Dice']\n"
     ]
    }
   ],
   "source": [
    "print(DeleteLetter(\"Dicet\"))"
   ]
  },
  {
   "cell_type": "code",
   "execution_count": 15,
   "id": "4a1b0fdc-0591-4c95-bc7a-d979b88cfe8e",
   "metadata": {},
   "outputs": [
    {
     "name": "stdout",
     "output_type": "stream",
     "text": [
      "['ahbeat', 'hbaeat', 'haebat', 'habaet', 'habeta']\n"
     ]
    }
   ],
   "source": [
    "def SwitchLetter(word):\n",
    "    split_l = []\n",
    "    switch_l = []\n",
    "    for i in range(len(word)):\n",
    "        split_l.append((word[0:i], word[i:]))\n",
    "    switch_l = [a + b[1] + b[0] + b[2:] for a, b in split_l if len(b) >= 2]\n",
    "    return switch_l\n",
    "\n",
    "switch_word_l = SwitchLetter(word=\"habeat\")\n",
    "print(SwitchLetter(\"habeat\"))"
   ]
  },
  {
   "cell_type": "code",
   "execution_count": 17,
   "id": "a586f22b-8250-471c-9ce7-9125e1e3b2ee",
   "metadata": {},
   "outputs": [
    {
     "name": "stdout",
     "output_type": "stream",
     "text": [
      "['appetitum', 'bppetitum', 'cppetitum', 'dppetitum', 'eppetitum', 'fppetitum', 'gppetitum', 'hppetitum', 'ippetitum', 'jppetitum', 'kppetitum', 'lppetitum', 'mppetitum', 'nppetitum', 'oppetitum', 'pppetitum', 'qppetitum', 'rppetitum', 'sppetitum', 'tppetitum', 'uppetitum', 'vppetitum', 'wppetitum', 'xppetitum', 'yppetitum', 'zppetitum', 'aapetitum', 'abpetitum', 'acpetitum', 'adpetitum', 'aepetitum', 'afpetitum', 'agpetitum', 'ahpetitum', 'aipetitum', 'ajpetitum', 'akpetitum', 'alpetitum', 'ampetitum', 'anpetitum', 'aopetitum', 'appetitum', 'aqpetitum', 'arpetitum', 'aspetitum', 'atpetitum', 'aupetitum', 'avpetitum', 'awpetitum', 'axpetitum', 'aypetitum', 'azpetitum', 'apaetitum', 'apbetitum', 'apcetitum', 'apdetitum', 'apeetitum', 'apfetitum', 'apgetitum', 'aphetitum', 'apietitum', 'apjetitum', 'apketitum', 'apletitum', 'apmetitum', 'apnetitum', 'apoetitum', 'appetitum', 'apqetitum', 'apretitum', 'apsetitum', 'aptetitum', 'apuetitum', 'apvetitum', 'apwetitum', 'apxetitum', 'apyetitum', 'apzetitum', 'appatitum', 'appbtitum', 'appctitum', 'appdtitum', 'appetitum', 'appftitum', 'appgtitum', 'apphtitum', 'appititum', 'appjtitum', 'appktitum', 'appltitum', 'appmtitum', 'appntitum', 'appotitum', 'appptitum', 'appqtitum', 'apprtitum', 'appstitum', 'appttitum', 'apputitum', 'appvtitum', 'appwtitum', 'appxtitum', 'appytitum', 'appztitum', 'appeaitum', 'appebitum', 'appecitum', 'appeditum', 'appeeitum', 'appefitum', 'appegitum', 'appehitum', 'appeiitum', 'appejitum', 'appekitum', 'appelitum', 'appemitum', 'appenitum', 'appeoitum', 'appepitum', 'appeqitum', 'apperitum', 'appesitum', 'appetitum', 'appeuitum', 'appevitum', 'appewitum', 'appexitum', 'appeyitum', 'appezitum', 'appetatum', 'appetbtum', 'appetctum', 'appetdtum', 'appetetum', 'appetftum', 'appetgtum', 'appethtum', 'appetitum', 'appetjtum', 'appetktum', 'appetltum', 'appetmtum', 'appetntum', 'appetotum', 'appetptum', 'appetqtum', 'appetrtum', 'appetstum', 'appetttum', 'appetutum', 'appetvtum', 'appetwtum', 'appetxtum', 'appetytum', 'appetztum', 'appetiaum', 'appetibum', 'appeticum', 'appetidum', 'appetieum', 'appetifum', 'appetigum', 'appetihum', 'appetiium', 'appetijum', 'appetikum', 'appetilum', 'appetimum', 'appetinum', 'appetioum', 'appetipum', 'appetiqum', 'appetirum', 'appetisum', 'appetitum', 'appetiuum', 'appetivum', 'appetiwum', 'appetixum', 'appetiyum', 'appetizum', 'appetitam', 'appetitbm', 'appetitcm', 'appetitdm', 'appetitem', 'appetitfm', 'appetitgm', 'appetithm', 'appetitim', 'appetitjm', 'appetitkm', 'appetitlm', 'appetitmm', 'appetitnm', 'appetitom', 'appetitpm', 'appetitqm', 'appetitrm', 'appetitsm', 'appetittm', 'appetitum', 'appetitvm', 'appetitwm', 'appetitxm', 'appetitym', 'appetitzm', 'appetitua', 'appetitub', 'appetituc', 'appetitud', 'appetitue', 'appetituf', 'appetitug', 'appetituh', 'appetitui', 'appetituj', 'appetituk', 'appetitul', 'appetitum', 'appetitun', 'appetituo', 'appetitup', 'appetituq', 'appetitur', 'appetitus', 'appetitut', 'appetituu', 'appetituv', 'appetituw', 'appetitux', 'appetituy', 'appetituz']\n"
     ]
    }
   ],
   "source": [
    "def replace_letter(word):\n",
    "    split_l = []\n",
    "    replace_list = []\n",
    "    for i in range(len(word)):\n",
    "        split_l.append((word[0:i], word[i:]))\n",
    "    alphabets = 'abcdefghijklmnopqrstuvwxyz'\n",
    "    replace_list = [a + l + (b[1:] if len(b) > 1 else '') for a, b in split_l if b for l in alphabets]\n",
    "    return replace_list\n",
    "\n",
    "replace_l = replace_letter(word='appetitum')\n",
    "print(replace_letter(\"appetitum\"))"
   ]
  },
  {
   "cell_type": "code",
   "execution_count": 23,
   "id": "13dece03-6770-4b8e-8d00-bdad158ce27b",
   "metadata": {},
   "outputs": [
    {
     "name": "stdout",
     "output_type": "stream",
     "text": [
      "['aorationem', 'borationem', 'corationem', 'dorationem', 'eorationem', 'forationem', 'gorationem', 'horationem', 'iorationem', 'jorationem', 'korationem', 'lorationem', 'morationem', 'norationem', 'oorationem', 'porationem', 'qorationem', 'rorationem', 'sorationem', 'torationem', 'uorationem', 'vorationem', 'worationem', 'xorationem', 'yorationem', 'zorationem', 'oarationem', 'obrationem', 'ocrationem', 'odrationem', 'oerationem', 'ofrationem', 'ogrationem', 'ohrationem', 'oirationem', 'ojrationem', 'okrationem', 'olrationem', 'omrationem', 'onrationem', 'oorationem', 'oprationem', 'oqrationem', 'orrationem', 'osrationem', 'otrationem', 'ourationem', 'ovrationem', 'owrationem', 'oxrationem', 'oyrationem', 'ozrationem', 'oraationem', 'orbationem', 'orcationem', 'ordationem', 'oreationem', 'orfationem', 'orgationem', 'orhationem', 'oriationem', 'orjationem', 'orkationem', 'orlationem', 'ormationem', 'ornationem', 'oroationem', 'orpationem', 'orqationem', 'orrationem', 'orsationem', 'ortationem', 'oruationem', 'orvationem', 'orwationem', 'orxationem', 'oryationem', 'orzationem', 'oraationem', 'orabtionem', 'oractionem', 'oradtionem', 'oraetionem', 'oraftionem', 'oragtionem', 'orahtionem', 'oraitionem', 'orajtionem', 'oraktionem', 'oraltionem', 'oramtionem', 'orantionem', 'oraotionem', 'oraptionem', 'oraqtionem', 'orartionem', 'orastionem', 'orattionem', 'orautionem', 'oravtionem', 'orawtionem', 'oraxtionem', 'oraytionem', 'oraztionem', 'orataionem', 'oratbionem', 'oratcionem', 'oratdionem', 'orateionem', 'oratfionem', 'oratgionem', 'orathionem', 'oratiionem', 'oratjionem', 'oratkionem', 'oratlionem', 'oratmionem', 'oratnionem', 'oratoionem', 'oratpionem', 'oratqionem', 'oratrionem', 'oratsionem', 'orattionem', 'oratuionem', 'oratvionem', 'oratwionem', 'oratxionem', 'oratyionem', 'oratzionem', 'oratiaonem', 'oratibonem', 'oraticonem', 'oratidonem', 'oratieonem', 'oratifonem', 'oratigonem', 'oratihonem', 'oratiionem', 'oratijonem', 'oratikonem', 'oratilonem', 'oratimonem', 'oratinonem', 'oratioonem', 'oratiponem', 'oratiqonem', 'oratironem', 'oratisonem', 'oratitonem', 'oratiuonem', 'orativonem', 'oratiwonem', 'oratixonem', 'oratiyonem', 'oratizonem', 'oratioanem', 'oratiobnem', 'oratiocnem', 'oratiodnem', 'oratioenem', 'oratiofnem', 'oratiognem', 'oratiohnem', 'oratioinem', 'oratiojnem', 'oratioknem', 'oratiolnem', 'oratiomnem', 'orationnem', 'oratioonem', 'oratiopnem', 'oratioqnem', 'oratiornem', 'oratiosnem', 'oratiotnem', 'oratiounem', 'oratiovnem', 'oratiownem', 'oratioxnem', 'oratioynem', 'oratioznem', 'orationaem', 'orationbem', 'orationcem', 'orationdem', 'orationeem', 'orationfem', 'orationgem', 'orationhem', 'orationiem', 'orationjem', 'orationkem', 'orationlem', 'orationmem', 'orationnem', 'orationoem', 'orationpem', 'orationqem', 'orationrem', 'orationsem', 'orationtem', 'orationuem', 'orationvem', 'orationwem', 'orationxem', 'orationyem', 'orationzem', 'orationeam', 'orationebm', 'orationecm', 'orationedm', 'orationeem', 'orationefm', 'orationegm', 'orationehm', 'orationeim', 'orationejm', 'orationekm', 'orationelm', 'orationemm', 'orationenm', 'orationeom', 'orationepm', 'orationeqm', 'orationerm', 'orationesm', 'orationetm', 'orationeum', 'orationevm', 'orationewm', 'orationexm', 'orationeym', 'orationezm', 'orationema', 'orationemb', 'orationemc', 'orationemd', 'orationeme', 'orationemf', 'orationemg', 'orationemh', 'orationemi', 'orationemj', 'orationemk', 'orationeml', 'orationemm', 'orationemn', 'orationemo', 'orationemp', 'orationemq', 'orationemr', 'orationems', 'orationemt', 'orationemu', 'orationemv', 'orationemw', 'orationemx', 'orationemy', 'orationemz']\n"
     ]
    }
   ],
   "source": [
    "def insert_letter(word):\n",
    "    split_l = []\n",
    "    insert_list = []\n",
    "    for i in range(len(word) + 1):\n",
    "        split_l.append((word[0:i], word[i:]))\n",
    "    letters = 'abcdefghijklmnopqrstuvwxyz'\n",
    "    insert_list = [a + l + b for a, b in split_l for l in letters]\n",
    "    # print(split_l)\n",
    "    return insert_list\n",
    "print(insert_letter(\"orationem\"))"
   ]
  },
  {
   "cell_type": "code",
   "execution_count": 26,
   "id": "7b5a05b9-0f3d-4b47-acc9-c984e465df7a",
   "metadata": {},
   "outputs": [
    {
     "name": "stdin",
     "output_type": "stream",
     "text": [
      "Enter any word: sane\n"
     ]
    },
    {
     "name": "stdout",
     "output_type": "stream",
     "text": [
      "word 0: plane, probability 0.001825\n",
      "word 1: sint, probability 0.001825\n",
      "word 2: se, probability 0.005474\n",
      "word 3: sunt, probability 0.005474\n",
      "word 4: bene, probability 0.001825\n",
      "word 5: ne, probability 0.005474\n",
      "word 6: an, probability 0.003650\n",
      "word 7: sese, probability 0.001825\n",
      "word 8: ante, probability 0.001825\n",
      "word 9: mene, probability 0.001825\n",
      "word 10: suae, probability 0.001825\n"
     ]
    }
   ],
   "source": [
    "def edit_one_letter(word, allow_switches=True):\n",
    "    edit_set1 = set()\n",
    "    edit_set1.update(DeleteLetter(word))\n",
    "    if allow_switches:\n",
    "        edit_set1.update(SwitchLetter(word))\n",
    "    edit_set1.update(replace_letter(word))\n",
    "    edit_set1.update(insert_letter(word))\n",
    "    return edit_set1\n",
    "\n",
    "# edit two letters\n",
    "def edit_two_letters(word, allow_switches=True):\n",
    "    edit_set2 = set()\n",
    "    edit_one = edit_one_letter(word, allow_switches=allow_switches)\n",
    "    for w in edit_one:\n",
    "        if w:\n",
    "            edit_two = edit_one_letter(w, allow_switches=allow_switches)\n",
    "            edit_set2.update(edit_two)\n",
    "    return edit_set2\n",
    "\n",
    "# get corrected word\n",
    "def get_corrections(word, probs, vocab, n=2):\n",
    "    suggested_word = []\n",
    "    best_suggestion = []\n",
    "    suggested_word = list(\n",
    "        (word in vocab and word) or edit_one_letter(word).intersection(vocab) or edit_two_letters(word).intersection(\n",
    "            vocab))\n",
    "    best_suggestion = [[s, probs[s]] for s in list(reversed(suggested_word))]\n",
    "    return best_suggestion\n",
    "\n",
    "my_word = input(\"Enter any word:\")\n",
    "probs = get_probs(word_count_dict)\n",
    "tmp_corrections = get_corrections(my_word, probs, v, 2)\n",
    "for i, word_prob in enumerate(tmp_corrections):\n",
    "    print(f\"word {i}: {word_prob[0]}, probability {word_prob[1]:.6f}\")"
   ]
  },
  {
   "cell_type": "code",
   "execution_count": null,
   "id": "23c40ef8-4b4c-45f2-9f56-ba986f84e423",
   "metadata": {},
   "outputs": [],
   "source": []
  },
  {
   "cell_type": "code",
   "execution_count": null,
   "id": "efae4d9f-7985-461a-a7eb-58efe3b3f487",
   "metadata": {},
   "outputs": [],
   "source": []
  }
 ],
 "metadata": {
  "kernelspec": {
   "display_name": "Python 3 (ipykernel)",
   "language": "python",
   "name": "python3"
  },
  "language_info": {
   "codemirror_mode": {
    "name": "ipython",
    "version": 3
   },
   "file_extension": ".py",
   "mimetype": "text/x-python",
   "name": "python",
   "nbconvert_exporter": "python",
   "pygments_lexer": "ipython3",
   "version": "3.10.9"
  }
 },
 "nbformat": 4,
 "nbformat_minor": 5
}
